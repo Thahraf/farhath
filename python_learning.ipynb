{
  "nbformat": 4,
  "nbformat_minor": 0,
  "metadata": {
    "colab": {
      "provenance": [],
      "authorship_tag": "ABX9TyN7f6PGcDb508+RTSGqOCaI",
      "include_colab_link": true
    },
    "kernelspec": {
      "name": "python3",
      "display_name": "Python 3"
    },
    "language_info": {
      "name": "python"
    }
  },
  "cells": [
    {
      "cell_type": "markdown",
      "metadata": {
        "id": "view-in-github",
        "colab_type": "text"
      },
      "source": [
        "<a href=\"https://colab.research.google.com/github/Thahraf/farhath/blob/main/python_learning.ipynb\" target=\"_parent\"><img src=\"https://colab.research.google.com/assets/colab-badge.svg\" alt=\"Open In Colab\"/></a>"
      ]
    },
    {
      "cell_type": "code",
      "execution_count": null,
      "metadata": {
        "colab": {
          "base_uri": "https://localhost:8080/",
          "height": 55
        },
        "id": "wTWFDRuVIXGS",
        "outputId": "3f940c82-ea5a-4f04-f81d-e87344d2aa8b"
      },
      "outputs": [
        {
          "name": "stdout",
          "output_type": "stream",
          "text": [
            "what is your name:farhath\n"
          ]
        },
        {
          "output_type": "execute_result",
          "data": {
            "text/plain": [
              "'farhath'"
            ],
            "application/vnd.google.colaboratory.intrinsic+json": {
              "type": "string"
            }
          },
          "metadata": {},
          "execution_count": 1
        }
      ],
      "source": [
        "input(\"what is your name:\")\n"
      ]
    },
    {
      "cell_type": "code",
      "source": [
        "name = input(\"what is your name : \")\n",
        "age = int(input(\"how old are you \"))\n",
        "print(f\"hello {name}\")\n",
        "print (\"you are\",age, \"years old\")\n",
        "age = age + 1\n",
        "print(\"hbday u r \", age)"
      ],
      "metadata": {
        "colab": {
          "base_uri": "https://localhost:8080/"
        },
        "id": "oolvjUFHJZoA",
        "outputId": "54f10ed4-04d6-4155-989f-4f46edc68088"
      },
      "execution_count": null,
      "outputs": [
        {
          "output_type": "stream",
          "name": "stdout",
          "text": [
            "what is your name : aloof \n",
            "how old are you 15\n",
            "hello aloof \n",
            "you are 15 years old\n",
            "hbday u r  16\n"
          ]
        }
      ]
    },
    {
      "cell_type": "code",
      "source": [
        "length = int(input(\"enter the length \"))\n",
        "width = int(input(\"enter the width \"))\n",
        "area = length * width\n",
        "print(f\"area of the rectangle is {area}\")"
      ],
      "metadata": {
        "colab": {
          "base_uri": "https://localhost:8080/"
        },
        "id": "Loz9RyykLWjR",
        "outputId": "32ca4367-e031-4993-b0bb-2cc81764ab99"
      },
      "execution_count": null,
      "outputs": [
        {
          "output_type": "stream",
          "name": "stdout",
          "text": [
            "enter the length 10\n",
            "enter the width 5\n",
            "area of the rectangle is 50\n"
          ]
        }
      ]
    },
    {
      "cell_type": "code",
      "source": [
        "item = input(\"what item you would like to have \")\n",
        "price = float (input (\"what is its cost \"))\n",
        "quantity = int(input(\"how much do you want\"))\n",
        "total = price * quantity\n",
        "print(f\"you brought{item} and it costs {total}\")"
      ],
      "metadata": {
        "colab": {
          "base_uri": "https://localhost:8080/"
        },
        "id": "-NXYa5pCO5nY",
        "outputId": "748fbad6-a6c6-43d8-fb15-e6a518660260"
      },
      "execution_count": null,
      "outputs": [
        {
          "output_type": "stream",
          "name": "stdout",
          "text": [
            "what item you would like to have tomato\n",
            "what is its cost 20\n",
            "how much do you want1\n",
            "you broughttomato and it costs 20.0\n"
          ]
        }
      ]
    },
    {
      "cell_type": "code",
      "source": [
        "Adj1 = input (\"enter an adjective\")\n",
        "Noun = input (\"enter a noun(a person, place or things)\")\n",
        "Adj2 = input (\"enter an adjective\")\n",
        "Verb1 =input (\"enter a verb ending with 'ing'\")\n",
        "print (f\"Today I went to a {Adj1} zoo \")\n",
        "print (f\"In a Exibit, I saw a {Noun} \")\n",
        "print(f\"{Noun} was {Adj2} and {Verb1} \")\n",
        "print(f\"I ws {Adj2} !\")"
      ],
      "metadata": {
        "colab": {
          "base_uri": "https://localhost:8080/"
        },
        "id": "PoCtb5T98JLa",
        "outputId": "8433669b-c8f2-47b5-bf9f-d464a806f50b"
      },
      "execution_count": null,
      "outputs": [
        {
          "output_type": "stream",
          "name": "stdout",
          "text": [
            "enter an adjectivedirtiest\n",
            "enter a noun(a person, place or things)monkey\n",
            "enter an adjectivecreepy\n",
            "enter a verb ending with 'ing'disgusting\n",
            "Today I went to a dirtiest zoo \n",
            "In a Exibit, I saw a monkey \n",
            "monkey was creepy and disgusting \n",
            "I ws creepy !\n"
          ]
        }
      ]
    },
    {
      "cell_type": "code",
      "source": [
        " friends = 36\n",
        " #friends = friends + 1\n",
        " #friends -=2\n",
        " #friends *= 3\n",
        "# friends /= 2\n",
        "#friends **= 2\n",
        "#reminder = friends % 2\n",
        "\n",
        " print(reminder)"
      ],
      "metadata": {
        "colab": {
          "base_uri": "https://localhost:8080/"
        },
        "id": "V9cx0rHJCulH",
        "outputId": "92e3dc4d-bfb1-47f9-ad42-2f60d6fc4ed3"
      },
      "execution_count": null,
      "outputs": [
        {
          "output_type": "stream",
          "name": "stdout",
          "text": [
            "0\n"
          ]
        }
      ]
    },
    {
      "cell_type": "code",
      "source": [
        "x = 3.44\n",
        "y = -13\n",
        "z = 8\n",
        "\n",
        "#print(round(x))\n",
        "#print(abs(y))\n",
        "a = max(x,y,z)\n",
        "b= min (x,y,z)\n",
        "print(b)"
      ],
      "metadata": {
        "colab": {
          "base_uri": "https://localhost:8080/"
        },
        "id": "5naTsKICFemn",
        "outputId": "66e41a46-5846-4291-af13-396f0adaa9e2"
      },
      "execution_count": null,
      "outputs": [
        {
          "output_type": "stream",
          "name": "stdout",
          "text": [
            "-13\n"
          ]
        }
      ]
    },
    {
      "cell_type": "code",
      "source": [
        "import math\n",
        "#a=math.pi\n",
        "a = 4.3\n",
        "b = math.sqrt(a)\n",
        "c =math.ceil(a)\n",
        "d = math.floor(a)\n",
        "print(d)"
      ],
      "metadata": {
        "colab": {
          "base_uri": "https://localhost:8080/"
        },
        "id": "vyxlWs-jHmz1",
        "outputId": "fb784e5e-683c-4aa9-d055-ba70ed727288"
      },
      "execution_count": null,
      "outputs": [
        {
          "output_type": "stream",
          "name": "stdout",
          "text": [
            "4\n"
          ]
        }
      ]
    },
    {
      "cell_type": "code",
      "source": [
        "import math\n",
        "# circumference of circle\n",
        "radius = float(input(\"enter the radius\"))\n",
        "area =math.pi *2*radius\n",
        "print(\"area of the circle is : \",math.floor(area))"
      ],
      "metadata": {
        "colab": {
          "base_uri": "https://localhost:8080/"
        },
        "id": "Jp6LA76xKKcL",
        "outputId": "b12bb91c-f1f9-4345-f5e1-7d557dfb2e87"
      },
      "execution_count": null,
      "outputs": [
        {
          "output_type": "stream",
          "name": "stdout",
          "text": [
            "enter the radius10.5\n",
            "area of the circle is :  65\n"
          ]
        }
      ]
    },
    {
      "cell_type": "code",
      "source": [
        "import math\n",
        "# area of circle\n",
        "radius = float(input(\"enter the radius\"))\n",
        "area = math.pi*radius**2\n",
        "print (\"area of the circle is : \",math.ceil(area),\"cm^2\")"
      ],
      "metadata": {
        "colab": {
          "base_uri": "https://localhost:8080/"
        },
        "id": "s61UD6poMfVr",
        "outputId": "3cfdcff6-6dc6-428d-8415-785cc3358d28"
      },
      "execution_count": null,
      "outputs": [
        {
          "output_type": "stream",
          "name": "stdout",
          "text": [
            "enter the radius10.5\n",
            "area of the circle is :  347 cm^2\n"
          ]
        }
      ]
    },
    {
      "cell_type": "code",
      "source": [
        "import math\n",
        "# hypotenuse of the triangle\n",
        "a = float(input(\"enter the value \"))\n",
        "b= float(input(\"enter the value \"))\n",
        "c=pow(a,2)+pow(b,2)\n",
        "d=math.sqrt(c)\n",
        "print(\"the hypotenuse of the triangle is :\", d,\"cm^2\")"
      ],
      "metadata": {
        "colab": {
          "base_uri": "https://localhost:8080/"
        },
        "id": "J6znCBI8Omwc",
        "outputId": "3e96a856-fba7-4f50-a580-1d9e2cb539ce"
      },
      "execution_count": null,
      "outputs": [
        {
          "output_type": "stream",
          "name": "stdout",
          "text": [
            "enter the value 3\n",
            "enter the value 4\n",
            "the hypotenuse of the triangle is : 5.0 cm^2\n"
          ]
        }
      ]
    },
    {
      "cell_type": "code",
      "source": [
        "# IF--ELSE\n",
        "\n",
        "age = int(input(\"please enter your age\"))\n",
        "if age>=100:\n",
        "  print(\"you are too old \")\n",
        "elif age>=18:\n",
        "  print(\"you are eligible\")\n",
        "elif age<0:\n",
        "  print(\"you are not born yet\")\n",
        "\n",
        "else:\n",
        "\n",
        "  print(\"you are not eligible\")\n",
        "\n",
        "\n"
      ],
      "metadata": {
        "colab": {
          "base_uri": "https://localhost:8080/"
        },
        "id": "xRcX_bEqQ3A4",
        "outputId": "36156cc1-9441-4559-af4a-02ca00f97add"
      },
      "execution_count": null,
      "outputs": [
        {
          "output_type": "stream",
          "name": "stdout",
          "text": [
            "please enter your age105\n",
            "you are too old \n"
          ]
        }
      ]
    },
    {
      "cell_type": "code",
      "source": [
        "Response = input(\"would you like some food y/n \")\n",
        "if Response == \"y\":\n",
        "\n",
        "  print (\"here is your food\")\n",
        "else:\n",
        "  print(\"Thank you\")\n"
      ],
      "metadata": {
        "colab": {
          "base_uri": "https://localhost:8080/"
        },
        "id": "OqFlFI4_T-2G",
        "outputId": "4c4963e0-2dd6-405c-da75-1e1d644ada03"
      },
      "execution_count": null,
      "outputs": [
        {
          "output_type": "stream",
          "name": "stdout",
          "text": [
            "would you like some food y/n y\n",
            "here is your food\n"
          ]
        }
      ]
    },
    {
      "cell_type": "code",
      "source": [
        "name = input(\"enter your name\")\n",
        "if name == \"\":\n",
        "  print (f\"you did not enter your name\")\n",
        "else:\n",
        "  print (f\"hello {name}\")\n"
      ],
      "metadata": {
        "colab": {
          "base_uri": "https://localhost:8080/"
        },
        "id": "VjodrYrlSQSg",
        "outputId": "6e4b36f2-3b57-4407-99b9-66515cc12176"
      },
      "execution_count": null,
      "outputs": [
        {
          "output_type": "stream",
          "name": "stdout",
          "text": [
            "enter your namefarhath\n",
            "hello farhath\n"
          ]
        }
      ]
    },
    {
      "cell_type": "code",
      "source": [
        "for_sale =False\n",
        "if for_sale:\n",
        "  print(f\"this item is for sale\")\n",
        "else :\n",
        "  print (\"its not for sale\")\n"
      ],
      "metadata": {
        "colab": {
          "base_uri": "https://localhost:8080/"
        },
        "id": "iVANj0XPdljJ",
        "outputId": "b14f9fd1-e40c-420f-8f1b-2917913648c3"
      },
      "execution_count": null,
      "outputs": [
        {
          "output_type": "stream",
          "name": "stdout",
          "text": [
            "its not for sale\n"
          ]
        }
      ]
    },
    {
      "cell_type": "code",
      "source": [
        "#python calculator\n",
        "Operator = (input(\"enter the operator + - * /\"))\n",
        "num1 = float(input(\"enter the 1 st value \"))\n",
        "num2 = float(input(\"enter the 2 nd value \"))\n",
        "\n",
        "if Operator == \"+\":\n",
        "  result = num1+num2\n",
        "  print(round(result))\n",
        "elif Operator == \"-\":\n",
        "  result = num1-num2\n",
        "  print(round(result))\n",
        "elif Operator == \"*\":\n",
        "  result = num1*num2\n",
        "  print(round(result))\n",
        "elif Operator == \"/\":\n",
        "  result = num1/num2\n",
        "  print(round(result,3))\n",
        "else:\n",
        "  print(f\"{Operator} is not  valid operator\")"
      ],
      "metadata": {
        "colab": {
          "base_uri": "https://localhost:8080/"
        },
        "id": "gl78GWWveXgs",
        "outputId": "2309b1be-d960-469b-a72e-436a6e742e84"
      },
      "execution_count": null,
      "outputs": [
        {
          "output_type": "stream",
          "name": "stdout",
          "text": [
            "enter the operator + - * /sooth!\n",
            "enter the 1 st value 34\n",
            "enter the 2 nd value 5\n",
            "sooth! is not  valid operator\n"
          ]
        }
      ]
    },
    {
      "cell_type": "code",
      "source": [
        "#weight converter\n",
        "weight = float(input(\"please enter your weight : \"))\n",
        "unit = input(\"kilogram or pound (K/P)\")\n",
        "if unit == \"K\":\n",
        "  weight = weight * 2.205\n",
        "  units = \"Lbs\"\n",
        "  print(f\"your weight is {weight}{units}\")\n",
        "elif unit == \"L\":\n",
        "  weight = weight/2.205\n",
        "  units =\"Kgs\"\n",
        "  print(f\"your weight is {weight}{units}\")\n",
        "else:\n",
        "  print(\" the given unit is invalid\")\n",
        "\n",
        "\n"
      ],
      "metadata": {
        "colab": {
          "base_uri": "https://localhost:8080/"
        },
        "id": "5Vb5YlNq2I_k",
        "outputId": "45a3a256-5b58-4fb7-b98f-e3359f87674b"
      },
      "execution_count": null,
      "outputs": [
        {
          "output_type": "stream",
          "name": "stdout",
          "text": [
            "please enter your weight : 78\n",
            "kilogram or pound (K/P)pok\n",
            " the given unit is invalid\n"
          ]
        }
      ]
    },
    {
      "cell_type": "code",
      "source": [
        "unit = input(f\"enter the unit of temperature (F/C)\")\n",
        "temp = float(input(\"enter the temperature here : \"))\n",
        "if unit == \"F\":\n",
        "  temp = (temp -32)*5/9\n",
        "  print(f\"temperature in celcius is {temp}{unit}\")\n",
        "elif unit == \"C\":\n",
        "  temp = 9*temp/5+32\n",
        "  print(f\"temperature in fahrenheit is {temp}{unit}\")\n",
        "else:\n",
        "  print(\"the unit given here is invalid\")"
      ],
      "metadata": {
        "colab": {
          "base_uri": "https://localhost:8080/"
        },
        "id": "ayMbSYUf7rm1",
        "outputId": "770c703a-a7f6-4259-d692-30696b710f3d"
      },
      "execution_count": null,
      "outputs": [
        {
          "output_type": "stream",
          "name": "stdout",
          "text": [
            "enter the unit of temperature (F/C)C\n",
            "enter the temperature here : 60\n",
            "temperature in fahrenheit is 140.0C\n"
          ]
        }
      ]
    },
    {
      "cell_type": "code",
      "source": [
        "#logical operator\n",
        "\n",
        "temp=20\n",
        "its_raining=True\n",
        "if temp>30 or temp<=0 or its_raining:\n",
        "  print(\"the weather is bad to go outside\")\n",
        "else:\n",
        "  print(\"its ok to go outside\")"
      ],
      "metadata": {
        "colab": {
          "base_uri": "https://localhost:8080/"
        },
        "id": "4w-aJYlCR2IA",
        "outputId": "e28ab814-ecf7-4b51-c5fe-e486678dd7d2"
      },
      "execution_count": null,
      "outputs": [
        {
          "output_type": "stream",
          "name": "stdout",
          "text": [
            "the weather is bad to go outside\n"
          ]
        }
      ]
    },
    {
      "cell_type": "code",
      "source": [
        "temp=26\n",
        "its_sunny=True\n",
        "if temp>=28 and its_sunny:\n",
        "  print(\"the weather is hot and sunny to go outside\")\n",
        "elif temp<0 and its_sunny:\n",
        "  print (\"the weather is cold and sunny to go outside \")\n",
        "elif temp >=28 and not its_sunny:\n",
        "  print(\"the weather is hot and cloudy to go outside\")\n",
        "else:\n",
        "  print(\"its ok to go outside\")"
      ],
      "metadata": {
        "id": "b-W5-W6_UH6B",
        "colab": {
          "base_uri": "https://localhost:8080/"
        },
        "outputId": "1977f928-5e0f-4c01-f521-5cb6f8181f50"
      },
      "execution_count": null,
      "outputs": [
        {
          "output_type": "stream",
          "name": "stdout",
          "text": [
            "its ok to go outside\n"
          ]
        }
      ]
    },
    {
      "cell_type": "code",
      "source": [
        "num = 36\n",
        "a= 30\n",
        "b= 20\n",
        "#print(\"fail \" if num<35 else \"pass\")\n",
        "#result = \"pass\" if num >=35 else \"fail\"\n",
        "#print(result)\n",
        "#min_num = a if a< b else b\n",
        "#max_num = a if a>b else b\n",
        "#print(\"minimum number \",min_num)\n",
        "#print(\"maximum number \",max_num)\n",
        "age=18\n",
        "temperature = 29\n",
        "weather = \"hot\" if temperature>28 else \"cold\"\n",
        "print (weather)\n",
        "#stats= \"adult\" if age>= 18 else \"child\"\n",
        "#print (stats)"
      ],
      "metadata": {
        "colab": {
          "base_uri": "https://localhost:8080/"
        },
        "id": "W8lZdagoqm_1",
        "outputId": "20f4bd8e-3769-4209-915a-5dfbac67c7bd"
      },
      "execution_count": null,
      "outputs": [
        {
          "output_type": "stream",
          "name": "stdout",
          "text": [
            "hot\n"
          ]
        }
      ]
    },
    {
      "cell_type": "code",
      "source": [
        "name = input(\"enter your name\")\n",
        "#print(\"no.of string space : \",len(name))\n",
        "result= name.find(\" \")\n",
        "#result= name.rfind(\"a\")\n",
        "print(result)"
      ],
      "metadata": {
        "colab": {
          "base_uri": "https://localhost:8080/"
        },
        "id": "gFURx371CcKg",
        "outputId": "0e959463-4855-4e34-f1c0-53d39e8b7d9a"
      },
      "execution_count": 22,
      "outputs": [
        {
          "output_type": "stream",
          "name": "stdout",
          "text": [
            "enter your namefarhath\n",
            "-1\n"
          ]
        }
      ]
    },
    {
      "cell_type": "code",
      "source": [
        "name= input(\"enter your name \")\n",
        "name = name.capitalize()\n",
        "print(name)"
      ],
      "metadata": {
        "colab": {
          "base_uri": "https://localhost:8080/"
        },
        "id": "ezDJsxy_X03s",
        "outputId": "c68c5d60-9f90-4d51-8c67-56999acfad90"
      },
      "execution_count": null,
      "outputs": [
        {
          "output_type": "stream",
          "name": "stdout",
          "text": [
            "enter your name farhath\n",
            "Farhath\n"
          ]
        }
      ]
    },
    {
      "cell_type": "code",
      "source": [
        "name= input(\"enter your name \")\n",
        "name = name.upper()\n",
        "print(name)"
      ],
      "metadata": {
        "colab": {
          "base_uri": "https://localhost:8080/"
        },
        "id": "i5oaJBEKYTMX",
        "outputId": "30945daf-484a-426d-c6be-b76c51091e0b"
      },
      "execution_count": null,
      "outputs": [
        {
          "output_type": "stream",
          "name": "stdout",
          "text": [
            "enter your name farhath\n",
            "FARHATH\n"
          ]
        }
      ]
    },
    {
      "cell_type": "code",
      "source": [
        "#a = \"farhath\"\n",
        "phone_num=input(\"enter your phone number\")\n",
        "result = phone_num.replace(\"-\",\"\")\n",
        "print(result)\n",
        "#result = a.isdigit()\n",
        "#result = a.isalpha()\n",
        "\n"
      ],
      "metadata": {
        "id": "cvMr48mbYbI2",
        "colab": {
          "base_uri": "https://localhost:8080/"
        },
        "outputId": "09d89f89-71ae-426d-a61a-352c7b9bacbb"
      },
      "execution_count": 13,
      "outputs": [
        {
          "output_type": "stream",
          "name": "stdout",
          "text": [
            "enter your phone number12-345-67-89\n",
            "123456789\n"
          ]
        }
      ]
    },
    {
      "cell_type": "code",
      "source": [
        "print(help(str))"
      ],
      "metadata": {
        "colab": {
          "base_uri": "https://localhost:8080/"
        },
        "id": "RRNTTu6jPM5C",
        "outputId": "29ad2423-034c-43bc-b471-b9ecf75fca35"
      },
      "execution_count": 14,
      "outputs": [
        {
          "output_type": "stream",
          "name": "stdout",
          "text": [
            "Help on class str in module builtins:\n",
            "\n",
            "class str(object)\n",
            " |  str(object='') -> str\n",
            " |  str(bytes_or_buffer[, encoding[, errors]]) -> str\n",
            " |  \n",
            " |  Create a new string object from the given object. If encoding or\n",
            " |  errors is specified, then the object must expose a data buffer\n",
            " |  that will be decoded using the given encoding and error handler.\n",
            " |  Otherwise, returns the result of object.__str__() (if defined)\n",
            " |  or repr(object).\n",
            " |  encoding defaults to sys.getdefaultencoding().\n",
            " |  errors defaults to 'strict'.\n",
            " |  \n",
            " |  Methods defined here:\n",
            " |  \n",
            " |  __add__(self, value, /)\n",
            " |      Return self+value.\n",
            " |  \n",
            " |  __contains__(self, key, /)\n",
            " |      Return key in self.\n",
            " |  \n",
            " |  __eq__(self, value, /)\n",
            " |      Return self==value.\n",
            " |  \n",
            " |  __format__(self, format_spec, /)\n",
            " |      Return a formatted version of the string as described by format_spec.\n",
            " |  \n",
            " |  __ge__(self, value, /)\n",
            " |      Return self>=value.\n",
            " |  \n",
            " |  __getattribute__(self, name, /)\n",
            " |      Return getattr(self, name).\n",
            " |  \n",
            " |  __getitem__(self, key, /)\n",
            " |      Return self[key].\n",
            " |  \n",
            " |  __getnewargs__(...)\n",
            " |  \n",
            " |  __gt__(self, value, /)\n",
            " |      Return self>value.\n",
            " |  \n",
            " |  __hash__(self, /)\n",
            " |      Return hash(self).\n",
            " |  \n",
            " |  __iter__(self, /)\n",
            " |      Implement iter(self).\n",
            " |  \n",
            " |  __le__(self, value, /)\n",
            " |      Return self<=value.\n",
            " |  \n",
            " |  __len__(self, /)\n",
            " |      Return len(self).\n",
            " |  \n",
            " |  __lt__(self, value, /)\n",
            " |      Return self<value.\n",
            " |  \n",
            " |  __mod__(self, value, /)\n",
            " |      Return self%value.\n",
            " |  \n",
            " |  __mul__(self, value, /)\n",
            " |      Return self*value.\n",
            " |  \n",
            " |  __ne__(self, value, /)\n",
            " |      Return self!=value.\n",
            " |  \n",
            " |  __repr__(self, /)\n",
            " |      Return repr(self).\n",
            " |  \n",
            " |  __rmod__(self, value, /)\n",
            " |      Return value%self.\n",
            " |  \n",
            " |  __rmul__(self, value, /)\n",
            " |      Return value*self.\n",
            " |  \n",
            " |  __sizeof__(self, /)\n",
            " |      Return the size of the string in memory, in bytes.\n",
            " |  \n",
            " |  __str__(self, /)\n",
            " |      Return str(self).\n",
            " |  \n",
            " |  capitalize(self, /)\n",
            " |      Return a capitalized version of the string.\n",
            " |      \n",
            " |      More specifically, make the first character have upper case and the rest lower\n",
            " |      case.\n",
            " |  \n",
            " |  casefold(self, /)\n",
            " |      Return a version of the string suitable for caseless comparisons.\n",
            " |  \n",
            " |  center(self, width, fillchar=' ', /)\n",
            " |      Return a centered string of length width.\n",
            " |      \n",
            " |      Padding is done using the specified fill character (default is a space).\n",
            " |  \n",
            " |  count(...)\n",
            " |      S.count(sub[, start[, end]]) -> int\n",
            " |      \n",
            " |      Return the number of non-overlapping occurrences of substring sub in\n",
            " |      string S[start:end].  Optional arguments start and end are\n",
            " |      interpreted as in slice notation.\n",
            " |  \n",
            " |  encode(self, /, encoding='utf-8', errors='strict')\n",
            " |      Encode the string using the codec registered for encoding.\n",
            " |      \n",
            " |      encoding\n",
            " |        The encoding in which to encode the string.\n",
            " |      errors\n",
            " |        The error handling scheme to use for encoding errors.\n",
            " |        The default is 'strict' meaning that encoding errors raise a\n",
            " |        UnicodeEncodeError.  Other possible values are 'ignore', 'replace' and\n",
            " |        'xmlcharrefreplace' as well as any other name registered with\n",
            " |        codecs.register_error that can handle UnicodeEncodeErrors.\n",
            " |  \n",
            " |  endswith(...)\n",
            " |      S.endswith(suffix[, start[, end]]) -> bool\n",
            " |      \n",
            " |      Return True if S ends with the specified suffix, False otherwise.\n",
            " |      With optional start, test S beginning at that position.\n",
            " |      With optional end, stop comparing S at that position.\n",
            " |      suffix can also be a tuple of strings to try.\n",
            " |  \n",
            " |  expandtabs(self, /, tabsize=8)\n",
            " |      Return a copy where all tab characters are expanded using spaces.\n",
            " |      \n",
            " |      If tabsize is not given, a tab size of 8 characters is assumed.\n",
            " |  \n",
            " |  find(...)\n",
            " |      S.find(sub[, start[, end]]) -> int\n",
            " |      \n",
            " |      Return the lowest index in S where substring sub is found,\n",
            " |      such that sub is contained within S[start:end].  Optional\n",
            " |      arguments start and end are interpreted as in slice notation.\n",
            " |      \n",
            " |      Return -1 on failure.\n",
            " |  \n",
            " |  format(...)\n",
            " |      S.format(*args, **kwargs) -> str\n",
            " |      \n",
            " |      Return a formatted version of S, using substitutions from args and kwargs.\n",
            " |      The substitutions are identified by braces ('{' and '}').\n",
            " |  \n",
            " |  format_map(...)\n",
            " |      S.format_map(mapping) -> str\n",
            " |      \n",
            " |      Return a formatted version of S, using substitutions from mapping.\n",
            " |      The substitutions are identified by braces ('{' and '}').\n",
            " |  \n",
            " |  index(...)\n",
            " |      S.index(sub[, start[, end]]) -> int\n",
            " |      \n",
            " |      Return the lowest index in S where substring sub is found,\n",
            " |      such that sub is contained within S[start:end].  Optional\n",
            " |      arguments start and end are interpreted as in slice notation.\n",
            " |      \n",
            " |      Raises ValueError when the substring is not found.\n",
            " |  \n",
            " |  isalnum(self, /)\n",
            " |      Return True if the string is an alpha-numeric string, False otherwise.\n",
            " |      \n",
            " |      A string is alpha-numeric if all characters in the string are alpha-numeric and\n",
            " |      there is at least one character in the string.\n",
            " |  \n",
            " |  isalpha(self, /)\n",
            " |      Return True if the string is an alphabetic string, False otherwise.\n",
            " |      \n",
            " |      A string is alphabetic if all characters in the string are alphabetic and there\n",
            " |      is at least one character in the string.\n",
            " |  \n",
            " |  isascii(self, /)\n",
            " |      Return True if all characters in the string are ASCII, False otherwise.\n",
            " |      \n",
            " |      ASCII characters have code points in the range U+0000-U+007F.\n",
            " |      Empty string is ASCII too.\n",
            " |  \n",
            " |  isdecimal(self, /)\n",
            " |      Return True if the string is a decimal string, False otherwise.\n",
            " |      \n",
            " |      A string is a decimal string if all characters in the string are decimal and\n",
            " |      there is at least one character in the string.\n",
            " |  \n",
            " |  isdigit(self, /)\n",
            " |      Return True if the string is a digit string, False otherwise.\n",
            " |      \n",
            " |      A string is a digit string if all characters in the string are digits and there\n",
            " |      is at least one character in the string.\n",
            " |  \n",
            " |  isidentifier(self, /)\n",
            " |      Return True if the string is a valid Python identifier, False otherwise.\n",
            " |      \n",
            " |      Call keyword.iskeyword(s) to test whether string s is a reserved identifier,\n",
            " |      such as \"def\" or \"class\".\n",
            " |  \n",
            " |  islower(self, /)\n",
            " |      Return True if the string is a lowercase string, False otherwise.\n",
            " |      \n",
            " |      A string is lowercase if all cased characters in the string are lowercase and\n",
            " |      there is at least one cased character in the string.\n",
            " |  \n",
            " |  isnumeric(self, /)\n",
            " |      Return True if the string is a numeric string, False otherwise.\n",
            " |      \n",
            " |      A string is numeric if all characters in the string are numeric and there is at\n",
            " |      least one character in the string.\n",
            " |  \n",
            " |  isprintable(self, /)\n",
            " |      Return True if the string is printable, False otherwise.\n",
            " |      \n",
            " |      A string is printable if all of its characters are considered printable in\n",
            " |      repr() or if it is empty.\n",
            " |  \n",
            " |  isspace(self, /)\n",
            " |      Return True if the string is a whitespace string, False otherwise.\n",
            " |      \n",
            " |      A string is whitespace if all characters in the string are whitespace and there\n",
            " |      is at least one character in the string.\n",
            " |  \n",
            " |  istitle(self, /)\n",
            " |      Return True if the string is a title-cased string, False otherwise.\n",
            " |      \n",
            " |      In a title-cased string, upper- and title-case characters may only\n",
            " |      follow uncased characters and lowercase characters only cased ones.\n",
            " |  \n",
            " |  isupper(self, /)\n",
            " |      Return True if the string is an uppercase string, False otherwise.\n",
            " |      \n",
            " |      A string is uppercase if all cased characters in the string are uppercase and\n",
            " |      there is at least one cased character in the string.\n",
            " |  \n",
            " |  join(self, iterable, /)\n",
            " |      Concatenate any number of strings.\n",
            " |      \n",
            " |      The string whose method is called is inserted in between each given string.\n",
            " |      The result is returned as a new string.\n",
            " |      \n",
            " |      Example: '.'.join(['ab', 'pq', 'rs']) -> 'ab.pq.rs'\n",
            " |  \n",
            " |  ljust(self, width, fillchar=' ', /)\n",
            " |      Return a left-justified string of length width.\n",
            " |      \n",
            " |      Padding is done using the specified fill character (default is a space).\n",
            " |  \n",
            " |  lower(self, /)\n",
            " |      Return a copy of the string converted to lowercase.\n",
            " |  \n",
            " |  lstrip(self, chars=None, /)\n",
            " |      Return a copy of the string with leading whitespace removed.\n",
            " |      \n",
            " |      If chars is given and not None, remove characters in chars instead.\n",
            " |  \n",
            " |  partition(self, sep, /)\n",
            " |      Partition the string into three parts using the given separator.\n",
            " |      \n",
            " |      This will search for the separator in the string.  If the separator is found,\n",
            " |      returns a 3-tuple containing the part before the separator, the separator\n",
            " |      itself, and the part after it.\n",
            " |      \n",
            " |      If the separator is not found, returns a 3-tuple containing the original string\n",
            " |      and two empty strings.\n",
            " |  \n",
            " |  removeprefix(self, prefix, /)\n",
            " |      Return a str with the given prefix string removed if present.\n",
            " |      \n",
            " |      If the string starts with the prefix string, return string[len(prefix):].\n",
            " |      Otherwise, return a copy of the original string.\n",
            " |  \n",
            " |  removesuffix(self, suffix, /)\n",
            " |      Return a str with the given suffix string removed if present.\n",
            " |      \n",
            " |      If the string ends with the suffix string and that suffix is not empty,\n",
            " |      return string[:-len(suffix)]. Otherwise, return a copy of the original\n",
            " |      string.\n",
            " |  \n",
            " |  replace(self, old, new, count=-1, /)\n",
            " |      Return a copy with all occurrences of substring old replaced by new.\n",
            " |      \n",
            " |        count\n",
            " |          Maximum number of occurrences to replace.\n",
            " |          -1 (the default value) means replace all occurrences.\n",
            " |      \n",
            " |      If the optional argument count is given, only the first count occurrences are\n",
            " |      replaced.\n",
            " |  \n",
            " |  rfind(...)\n",
            " |      S.rfind(sub[, start[, end]]) -> int\n",
            " |      \n",
            " |      Return the highest index in S where substring sub is found,\n",
            " |      such that sub is contained within S[start:end].  Optional\n",
            " |      arguments start and end are interpreted as in slice notation.\n",
            " |      \n",
            " |      Return -1 on failure.\n",
            " |  \n",
            " |  rindex(...)\n",
            " |      S.rindex(sub[, start[, end]]) -> int\n",
            " |      \n",
            " |      Return the highest index in S where substring sub is found,\n",
            " |      such that sub is contained within S[start:end].  Optional\n",
            " |      arguments start and end are interpreted as in slice notation.\n",
            " |      \n",
            " |      Raises ValueError when the substring is not found.\n",
            " |  \n",
            " |  rjust(self, width, fillchar=' ', /)\n",
            " |      Return a right-justified string of length width.\n",
            " |      \n",
            " |      Padding is done using the specified fill character (default is a space).\n",
            " |  \n",
            " |  rpartition(self, sep, /)\n",
            " |      Partition the string into three parts using the given separator.\n",
            " |      \n",
            " |      This will search for the separator in the string, starting at the end. If\n",
            " |      the separator is found, returns a 3-tuple containing the part before the\n",
            " |      separator, the separator itself, and the part after it.\n",
            " |      \n",
            " |      If the separator is not found, returns a 3-tuple containing two empty strings\n",
            " |      and the original string.\n",
            " |  \n",
            " |  rsplit(self, /, sep=None, maxsplit=-1)\n",
            " |      Return a list of the substrings in the string, using sep as the separator string.\n",
            " |      \n",
            " |        sep\n",
            " |          The separator used to split the string.\n",
            " |      \n",
            " |          When set to None (the default value), will split on any whitespace\n",
            " |          character (including \\\\n \\\\r \\\\t \\\\f and spaces) and will discard\n",
            " |          empty strings from the result.\n",
            " |        maxsplit\n",
            " |          Maximum number of splits (starting from the left).\n",
            " |          -1 (the default value) means no limit.\n",
            " |      \n",
            " |      Splitting starts at the end of the string and works to the front.\n",
            " |  \n",
            " |  rstrip(self, chars=None, /)\n",
            " |      Return a copy of the string with trailing whitespace removed.\n",
            " |      \n",
            " |      If chars is given and not None, remove characters in chars instead.\n",
            " |  \n",
            " |  split(self, /, sep=None, maxsplit=-1)\n",
            " |      Return a list of the substrings in the string, using sep as the separator string.\n",
            " |      \n",
            " |        sep\n",
            " |          The separator used to split the string.\n",
            " |      \n",
            " |          When set to None (the default value), will split on any whitespace\n",
            " |          character (including \\\\n \\\\r \\\\t \\\\f and spaces) and will discard\n",
            " |          empty strings from the result.\n",
            " |        maxsplit\n",
            " |          Maximum number of splits (starting from the left).\n",
            " |          -1 (the default value) means no limit.\n",
            " |      \n",
            " |      Note, str.split() is mainly useful for data that has been intentionally\n",
            " |      delimited.  With natural text that includes punctuation, consider using\n",
            " |      the regular expression module.\n",
            " |  \n",
            " |  splitlines(self, /, keepends=False)\n",
            " |      Return a list of the lines in the string, breaking at line boundaries.\n",
            " |      \n",
            " |      Line breaks are not included in the resulting list unless keepends is given and\n",
            " |      true.\n",
            " |  \n",
            " |  startswith(...)\n",
            " |      S.startswith(prefix[, start[, end]]) -> bool\n",
            " |      \n",
            " |      Return True if S starts with the specified prefix, False otherwise.\n",
            " |      With optional start, test S beginning at that position.\n",
            " |      With optional end, stop comparing S at that position.\n",
            " |      prefix can also be a tuple of strings to try.\n",
            " |  \n",
            " |  strip(self, chars=None, /)\n",
            " |      Return a copy of the string with leading and trailing whitespace removed.\n",
            " |      \n",
            " |      If chars is given and not None, remove characters in chars instead.\n",
            " |  \n",
            " |  swapcase(self, /)\n",
            " |      Convert uppercase characters to lowercase and lowercase characters to uppercase.\n",
            " |  \n",
            " |  title(self, /)\n",
            " |      Return a version of the string where each word is titlecased.\n",
            " |      \n",
            " |      More specifically, words start with uppercased characters and all remaining\n",
            " |      cased characters have lower case.\n",
            " |  \n",
            " |  translate(self, table, /)\n",
            " |      Replace each character in the string using the given translation table.\n",
            " |      \n",
            " |        table\n",
            " |          Translation table, which must be a mapping of Unicode ordinals to\n",
            " |          Unicode ordinals, strings, or None.\n",
            " |      \n",
            " |      The table must implement lookup/indexing via __getitem__, for instance a\n",
            " |      dictionary or list.  If this operation raises LookupError, the character is\n",
            " |      left untouched.  Characters mapped to None are deleted.\n",
            " |  \n",
            " |  upper(self, /)\n",
            " |      Return a copy of the string converted to uppercase.\n",
            " |  \n",
            " |  zfill(self, width, /)\n",
            " |      Pad a numeric string with zeros on the left, to fill a field of the given width.\n",
            " |      \n",
            " |      The string is never truncated.\n",
            " |  \n",
            " |  ----------------------------------------------------------------------\n",
            " |  Static methods defined here:\n",
            " |  \n",
            " |  __new__(*args, **kwargs) from builtins.type\n",
            " |      Create and return a new object.  See help(type) for accurate signature.\n",
            " |  \n",
            " |  maketrans(...)\n",
            " |      Return a translation table usable for str.translate().\n",
            " |      \n",
            " |      If there is only one argument, it must be a dictionary mapping Unicode\n",
            " |      ordinals (integers) or characters to Unicode ordinals, strings or None.\n",
            " |      Character keys will be then converted to ordinals.\n",
            " |      If there are two arguments, they must be strings of equal length, and\n",
            " |      in the resulting dictionary, each character in x will be mapped to the\n",
            " |      character at the same position in y. If there is a third argument, it\n",
            " |      must be a string, whose characters will be mapped to None in the result.\n",
            "\n",
            "None\n"
          ]
        }
      ]
    },
    {
      "cell_type": "code",
      "source": [
        "username = input(\"pls enter your name\")\n",
        "\n",
        "\n",
        "\n",
        "if len(username)>12:\n",
        "  print(\"your username cannot be more than 12 letters \")\n",
        "elif username.find(\" \") !=-1:\n",
        "  print(\"your username cannot have spaces\")\n",
        "elif not username.isalpha():\n",
        "  print(\"your username cannot have numbers\")\n",
        "else :\n",
        "  print(f\"welcome{username}\")\n",
        "#print(result)"
      ],
      "metadata": {
        "colab": {
          "base_uri": "https://localhost:8080/"
        },
        "id": "pZEN9UidQime",
        "outputId": "13101e2a-7335-4efa-8228-002abc62009a"
      },
      "execution_count": 26,
      "outputs": [
        {
          "output_type": "stream",
          "name": "stdout",
          "text": [
            "pls enter your namefarhath123\n",
            "your username cannot have numbers\n"
          ]
        }
      ]
    },
    {
      "cell_type": "code",
      "source": [
        "# indexing operation\n",
        "phone_num=\"123-456-789\"\n",
        "#print(phone_num[5])\n",
        "#print(phone_num[0:2])\n",
        "#print(phone_num[0:12:3])\n",
        "print(phone_num[::-1])"
      ],
      "metadata": {
        "colab": {
          "base_uri": "https://localhost:8080/"
        },
        "id": "ZcOZo0YTYarl",
        "outputId": "bfb5d295-1605-4545-bd62-56da468a0b69"
      },
      "execution_count": 39,
      "outputs": [
        {
          "output_type": "stream",
          "name": "stdout",
          "text": [
            "987-654-321\n"
          ]
        }
      ]
    },
    {
      "cell_type": "code",
      "source": [
        "price1 =3200.5677\n",
        "price2 =-4890.654\n",
        "price3 =1990.65\n",
        "\n",
        "print(f\"price 1 is ${price1:,}\")\n",
        "print(f\"price 2 is ${price2:,}\")\n",
        "print(f\"price 3 is ${price3:,}\")\n"
      ],
      "metadata": {
        "colab": {
          "base_uri": "https://localhost:8080/"
        },
        "id": "JX0ydturcv6d",
        "outputId": "8558118d-a30f-479b-9aa5-0747a4eb04f5"
      },
      "execution_count": 8,
      "outputs": [
        {
          "output_type": "stream",
          "name": "stdout",
          "text": [
            "price 1 is $3,200.5677\n",
            "price 2 is $-4,890.654\n",
            "price 3 is $1,990.65\n"
          ]
        }
      ]
    },
    {
      "cell_type": "code",
      "source": [
        "#while loop\n",
        "name = input(\"Enter your name: \")\n",
        "while name == \"\":\n",
        "  print(\"you didnot enter your name\")\n",
        "\n",
        "  name = input(\"Enter your name: \")\n",
        "print(f\"hello {name}\")"
      ],
      "metadata": {
        "colab": {
          "base_uri": "https://localhost:8080/"
        },
        "id": "DZK1mvvbH5iQ",
        "outputId": "dcbb7b47-0e9e-4207-d680-e61d8fe7539d"
      },
      "execution_count": 12,
      "outputs": [
        {
          "output_type": "stream",
          "name": "stdout",
          "text": [
            "Enter your name: \n",
            "you didnot enter your name\n",
            "Enter your name: \n",
            "you didnot enter your name\n",
            "Enter your name: \n",
            "you didnot enter your name\n",
            "Enter your name: frhath\n",
            "hello frhath\n"
          ]
        }
      ]
    },
    {
      "cell_type": "code",
      "source": [
        "age = int(input(\"Enter your age:\"))\n",
        "\n",
        "while age<0:\n",
        "  print(\"age can't be negative\")\n",
        "  age = int(input(\"Enter your age:\"))\n",
        "print(f\"yuo are {age} year old\")\n"
      ],
      "metadata": {
        "colab": {
          "base_uri": "https://localhost:8080/"
        },
        "id": "ll_aw70FDsZ2",
        "outputId": "81294939-402b-401f-ccd0-fe4215ddfd4a"
      },
      "execution_count": 23,
      "outputs": [
        {
          "output_type": "stream",
          "name": "stdout",
          "text": [
            "Enter your age:-1\n",
            "age can't be negative\n",
            "Enter your age:5\n",
            "yuo are 5 year old\n"
          ]
        }
      ]
    },
    {
      "cell_type": "code",
      "source": [
        "menu = input(\"enter the food you like : (q for quit)\")\n",
        "while menu != \"q\":\n",
        "  print(f\"food you like is {menu})\")\n",
        "  menu = input(\"enter the food you like : (q for quit)\")\n",
        "print(\"QUIT\")"
      ],
      "metadata": {
        "colab": {
          "base_uri": "https://localhost:8080/"
        },
        "id": "L5SRrZEtQVXE",
        "outputId": "36433125-ad4f-4105-e4bd-5c3c3dc50171"
      },
      "execution_count": 24,
      "outputs": [
        {
          "output_type": "stream",
          "name": "stdout",
          "text": [
            "enter the food you like : (q for quit)parotta\n",
            "food you like is parotta)\n",
            "enter the food you like : (q for quit)kothu\n",
            "food you like is kothu)\n",
            "enter the food you like : (q for quit)q\n",
            "QUIT\n"
          ]
        }
      ]
    },
    {
      "cell_type": "code",
      "source": [
        "num = int(input(\"enter the number btw 1-10\"))\n",
        "while num<1 or num>10:\n",
        "  print(f\"{num} is not valid\")\n",
        "  num = int(input(\"enter the number btw 1-10\"))\n",
        "print(f\"your number is {num}\")\n",
        "\n",
        "\n",
        "\n"
      ],
      "metadata": {
        "colab": {
          "base_uri": "https://localhost:8080/"
        },
        "id": "7DAzIRt3SiSz",
        "outputId": "0ef71d90-53f4-4d62-f7bf-c9f7802a8acb"
      },
      "execution_count": 28,
      "outputs": [
        {
          "output_type": "stream",
          "name": "stdout",
          "text": [
            "enter the number btw 1-109\n",
            "your number is 9\n"
          ]
        }
      ]
    },
    {
      "cell_type": "code",
      "source": [
        "principle = 0\n",
        "interest = 0\n",
        "time_period = 0\n",
        "\n",
        "while principle<=0:\n",
        "\n",
        "  principle = float(input(\"enter the principle amount\"))\n",
        "print(f\"your amount is {principle}\")\n",
        "\n",
        "while interest<=0:\n",
        "\n",
        "  interest = float(input(\"enter the rate of interest\"))\n",
        "print(f\"your interest is {interest}\")\n",
        "\n",
        "while time_period<=0:\n",
        "\n",
        "  time_period = int(input(\"enter the time_period\"))\n",
        "print(f\"your timpeperiod is {time_period}\")\n",
        "\n",
        "total = principle *pow((1+interest/100),time_period)\n",
        "print(f\"total amount to pay is {total}\")"
      ],
      "metadata": {
        "colab": {
          "base_uri": "https://localhost:8080/"
        },
        "id": "LKWYd3DqT95h",
        "outputId": "e71f3601-f2b1-4a7d-8b2c-ef1fd82936dc"
      },
      "execution_count": 37,
      "outputs": [
        {
          "output_type": "stream",
          "name": "stdout",
          "text": [
            "enter the principle amount4000\n",
            "your amount is 4000.0\n",
            "enter the rate of interest3\n",
            "your interest is 3.0\n",
            "enter the time_period7\n",
            "your timpeperiod is 7\n",
            "total amount to pay is 4919.495461699481\n"
          ]
        }
      ]
    },
    {
      "cell_type": "code",
      "source": [
        "principle = 0\n",
        "interest = 0\n",
        "time_period = 0\n",
        "\n",
        "while principle<=0:\n",
        "\n",
        "  principle = float(input(\"enter the principle amount : \"))\n",
        "  if principle<=0:\n",
        "    print(\"enter a positive value\")\n",
        "print(f\"your amount is {principle}\")\n",
        "\n",
        "while interest<=0:\n",
        "\n",
        "  interest = float(input(\"enter the rate of interest : \"))\n",
        "  if interest<=0:\n",
        "    print(\"enter a positive value\")\n",
        "print(f\"your interest is {interest}\")\n",
        "\n",
        "while time_period<=0:\n",
        "\n",
        "  time_period = int(input(\"enter the time_period : \"))\n",
        "  if time_period<=0:\n",
        "    print(\"enter a positive value\")\n",
        "print(f\"your timpeperiod is {time_period}\")\n",
        "\n",
        "total = principle *pow((1+interest/100),time_period)\n",
        "print(f\"balance after {time_period} years is {total:.2f}\")"
      ],
      "metadata": {
        "colab": {
          "base_uri": "https://localhost:8080/"
        },
        "id": "PbJiSSs5ZvzQ",
        "outputId": "85c752a0-e07a-4e08-8d9e-4130e5153605"
      },
      "execution_count": 40,
      "outputs": [
        {
          "output_type": "stream",
          "name": "stdout",
          "text": [
            "enter the principle amount : 500\n",
            "your amount is 500.0\n",
            "enter the rate of interest : 7\n",
            "your interest is 7.0\n",
            "enter the time_period : 2\n",
            "your timpeperiod is 2\n",
            "balance after 2 years is 572.45\n"
          ]
        }
      ]
    },
    {
      "cell_type": "code",
      "source": [
        "# for loop\n",
        "\n",
        "for i in range(10):\n",
        "  print(\"hello world\")"
      ],
      "metadata": {
        "colab": {
          "base_uri": "https://localhost:8080/"
        },
        "id": "gEcAniRuvv52",
        "outputId": "ea06c449-a259-4124-c3c7-c1947c11e632"
      },
      "execution_count": 46,
      "outputs": [
        {
          "output_type": "stream",
          "name": "stdout",
          "text": [
            "hello world\n",
            "hello world\n",
            "hello world\n",
            "hello world\n",
            "hello world\n",
            "hello world\n",
            "hello world\n",
            "hello world\n",
            "hello world\n",
            "hello world\n"
          ]
        }
      ]
    }
  ]
}